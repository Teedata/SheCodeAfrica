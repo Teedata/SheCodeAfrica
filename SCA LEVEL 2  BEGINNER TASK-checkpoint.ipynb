{
 "cells": [
  {
   "cell_type": "code",
   "execution_count": 19,
   "id": "34ef7b9b",
   "metadata": {},
   "outputs": [
    {
     "name": "stdout",
     "output_type": "stream",
     "text": [
      "The 30 multiplied by 2 is 60 \n",
      "The 70 multiplied by 5 is 350 \n"
     ]
    }
   ],
   "source": [
    "def calculator(first,second):\n",
    "    \"\"\"A function creating a calculator to multiply any two numbers provided by the user\"\"\"\n",
    "    multiply = first * second\n",
    "    return \"The {} multiplied by {} is {} \".format(first, second, multiply)\n",
    "\n",
    "print(calculator(30,2))\n",
    "print(calculator(70,5))"
   ]
  },
  {
   "cell_type": "code",
   "execution_count": 17,
   "id": "6a2a8e73",
   "metadata": {},
   "outputs": [
    {
     "name": "stdout",
     "output_type": "stream",
     "text": [
      " The total number of students that passed are 5\n"
     ]
    }
   ],
   "source": [
    "Test_list  = [1,4,62,78,32,23,90,24,2,34] \"\"\"list of test scores\"\"\"\n",
    "def pass_rate(): \"\"\"calculate the number of pass rates\"\"\"\n",
    "    mark = len([i for i in Test_list if i >30]) \"\"\"variable to count the number of scores above the pass rate determined as 30\"\"\"\n",
    "    return \" The total number of students that passed are {}\".format(mark)\n",
    "print(pass_rate())"
   ]
  },
  {
   "cell_type": "code",
   "execution_count": 16,
   "id": "303b68db",
   "metadata": {},
   "outputs": [
    {
     "name": "stdout",
     "output_type": "stream",
     "text": [
      "5\n"
     ]
    }
   ],
   "source": [
    "Test_list = [1,4,62,78,32,23,90,24,2,34]\n",
    "def pass_students(Test_list):\n",
    "    count = 0\n",
    "    for i in Test_list:\n",
    "        if i > 30:\n",
    "            count += 1\n",
    "    return count\n",
    "print(pass_students(Test_list))"
   ]
  },
  {
   "cell_type": "code",
   "execution_count": null,
   "id": "b10107a5",
   "metadata": {},
   "outputs": [],
   "source": []
  }
 ],
 "metadata": {
  "kernelspec": {
   "display_name": "Python 3",
   "language": "python",
   "name": "python3"
  },
  "language_info": {
   "codemirror_mode": {
    "name": "ipython",
    "version": 3
   },
   "file_extension": ".py",
   "mimetype": "text/x-python",
   "name": "python",
   "nbconvert_exporter": "python",
   "pygments_lexer": "ipython3",
   "version": "3.8.8"
  }
 },
 "nbformat": 4,
 "nbformat_minor": 5
}
