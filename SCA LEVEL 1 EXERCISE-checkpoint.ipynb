{
 "cells": [
  {
   "cell_type": "code",
   "execution_count": 31,
   "id": "76c9f422",
   "metadata": {},
   "outputs": [
    {
     "name": "stdout",
     "output_type": "stream",
     "text": [
      "{'Ten': 10, 'Twenty': 20, 'Thirty': 30}\n"
     ]
    }
   ],
   "source": [
    "Keys = ['Ten',  'Twenty', 'Thirty']\n",
    "Values=[10, 20, 30]\n",
    "Dictionary=dict(zip(Keys,Values))\n",
    "print(Dictionary)"
   ]
  },
  {
   "cell_type": "code",
   "execution_count": 8,
   "id": "a75be10e",
   "metadata": {},
   "outputs": [
    {
     "name": "stdout",
     "output_type": "stream",
     "text": [
      "80\n"
     ]
    }
   ],
   "source": [
    "Sample_Dict = {\"class\":{\"student\":{\"name\":\"Mike\",\"Marks\":{\"Physics\":70, \"history\":80}}}}\n",
    "print(Sample_Dict[\"class\"][\"student\"][\"Marks\"][\"history\"])"
   ]
  },
  {
   "cell_type": "code",
   "execution_count": 9,
   "id": "67a65fa8",
   "metadata": {},
   "outputs": [
    {
     "name": "stdout",
     "output_type": "stream",
     "text": [
      "{'class': {'student': {'name': 'Mike', 'Marks': {'Physics': 70, 'history': 80, 'English': 75}}}}\n"
     ]
    }
   ],
   "source": [
    "Sample_Dict[\"class\"][\"student\"][\"Marks\"][\"English\"] = 75\n",
    "print(Sample_Dict)"
   ]
  },
  {
   "cell_type": "code",
   "execution_count": 3,
   "id": "12edd260",
   "metadata": {},
   "outputs": [
    {
     "data": {
      "text/plain": [
       "[500, 400, 300, 200, 100]"
      ]
     },
     "execution_count": 3,
     "metadata": {},
     "output_type": "execute_result"
    }
   ],
   "source": [
    "numbers = [100,200,300,400,500] #exercise 4\n",
    "sorted(numbers, reverse=True) "
   ]
  },
  {
   "cell_type": "code",
   "execution_count": 12,
   "id": "8a2b6168",
   "metadata": {},
   "outputs": [
    {
     "data": {
      "text/plain": [
       "{30, 40, 50}"
      ]
     },
     "execution_count": 12,
     "metadata": {},
     "output_type": "execute_result"
    }
   ],
   "source": [
    "Set1={10,20,30,40,50}\n",
    "Set2={30,40,50,60,70}\n",
    "Set1.intersection(Set2)"
   ]
  },
  {
   "cell_type": "code",
   "execution_count": 13,
   "id": "1479d12e",
   "metadata": {},
   "outputs": [
    {
     "data": {
      "text/plain": [
       "False"
      ]
     },
     "execution_count": 13,
     "metadata": {},
     "output_type": "execute_result"
    }
   ],
   "source": [
    "Set3={60,70,80,90,10}\n",
    "Set1.isdisjoint(Set3)"
   ]
  },
  {
   "cell_type": "code",
   "execution_count": 14,
   "id": "86ce41ff",
   "metadata": {},
   "outputs": [
    {
     "data": {
      "text/plain": [
       "{10}"
      ]
     },
     "execution_count": 14,
     "metadata": {},
     "output_type": "execute_result"
    }
   ],
   "source": [
    "Set3.intersection(Set1)"
   ]
  },
  {
   "cell_type": "code",
   "execution_count": 27,
   "id": "32eeec76",
   "metadata": {},
   "outputs": [
    {
     "name": "stdout",
     "output_type": "stream",
     "text": [
      "One year has 12 months, 52 weeks and 365 days.\n"
     ]
    }
   ],
   "source": [
    "sentence = \"One year has {2} months, {0} weeks and {1} days.\".format(52, 365, 12)\n",
    "print(sentence)"
   ]
  },
  {
   "cell_type": "code",
   "execution_count": 26,
   "id": "41950bed",
   "metadata": {},
   "outputs": [
    {
     "name": "stdout",
     "output_type": "stream",
     "text": [
      "One year has 12 months, 52 weeks and 365 days.\n"
     ]
    }
   ],
   "source": [
    "sentence = \"One year has {} months, {} weeks and {} days.\".format(52, 365, 12)\n",
    "corrected_sentence = \"One year has {} months, {} weeks and {} days.\".format(12, 52, 365)\n",
    "print(corrected_sentence)"
   ]
  },
  {
   "cell_type": "code",
   "execution_count": 21,
   "id": "08494813",
   "metadata": {},
   "outputs": [
    {
     "data": {
      "text/plain": [
       "2.0"
      ]
     },
     "execution_count": 21,
     "metadata": {},
     "output_type": "execute_result"
    }
   ],
   "source": [
    "Cube_root = 8 **(1/3)\n",
    "Cube_root"
   ]
  },
  {
   "cell_type": "code",
   "execution_count": 25,
   "id": "ebc8e761",
   "metadata": {},
   "outputs": [
    {
     "name": "stdout",
     "output_type": "stream",
     "text": [
      "Hello from the other side i must've called a thousand times to tell you i'm sorry for\n",
      "everything that i've done but when i call, you never seem to be home\n"
     ]
    }
   ],
   "source": [
    "wrong_sentence = \"\"\"Hello from the Other side I must've called a thousand times To tell you I'm sorry for\n",
    "EVERYTHING that I've done But when I call, You never seem to be Home\"\"\"\n",
    "proper_sentence = wrong_sentence.capitalize()\n",
    "print(proper_sentence)"
   ]
  },
  {
   "cell_type": "code",
   "execution_count": 45,
   "id": "0ec55814",
   "metadata": {},
   "outputs": [
    {
     "name": "stdout",
     "output_type": "stream",
     "text": [
      "['adesade4@gmail.com', 'bimpeadeola@gmail.com', 'chikaoluchi@gmail.com', 'fionashrek@gmail.com']\n"
     ]
    }
   ],
   "source": [
    "Email_addresses = ['joyfloyd2@hotmail.com', 'jb23forever@yahoo.com', 'adesade4@gmail.com', 'bimpeadeola@gmail.com', 'harunaik@yahoo.com', 'chikaoluchi@gmail.com', 'sweetheart4eva@hotmail.com', 'fionashrek@gmail.com', 'peace_goodness@hotmail.com']\n",
    "Gmail = []\n",
    "for match in Email_addresses:\n",
    "    if \"@gmail.com\" in match:\n",
    "        Gmail.append(match)\n",
    "        \n",
    "print(Gmail)        "
   ]
  },
  {
   "cell_type": "code",
   "execution_count": 46,
   "id": "e2af3721",
   "metadata": {},
   "outputs": [
    {
     "name": "stdout",
     "output_type": "stream",
     "text": [
      "['adesade4@gmail.com', 'bimpeadeola@gmail.com', 'chikaoluchi@gmail.com', 'fionashrek@gmail.com']\n"
     ]
    }
   ],
   "source": [
    "Email_addresses = ['joyfloyd2@hotmail.com', 'jb23forever@yahoo.com', 'adesade4@gmail.com', 'bimpeadeola@gmail.com', 'harunaik@yahoo.com', 'chikaoluchi@gmail.com', 'sweetheart4eva@hotmail.com', 'fionashrek@gmail.com', 'peace_goodness@hotmail.com']\n",
    "Gmail = [match for match in Email_addresses if \"@gmail.com\" in match]\n",
    "print(Gmail)"
   ]
  },
  {
   "cell_type": "code",
   "execution_count": null,
   "id": "73feea4b",
   "metadata": {},
   "outputs": [],
   "source": []
  }
 ],
 "metadata": {
  "kernelspec": {
   "display_name": "Python 3",
   "language": "python",
   "name": "python3"
  },
  "language_info": {
   "codemirror_mode": {
    "name": "ipython",
    "version": 3
   },
   "file_extension": ".py",
   "mimetype": "text/x-python",
   "name": "python",
   "nbconvert_exporter": "python",
   "pygments_lexer": "ipython3",
   "version": "3.8.8"
  }
 },
 "nbformat": 4,
 "nbformat_minor": 5
}
